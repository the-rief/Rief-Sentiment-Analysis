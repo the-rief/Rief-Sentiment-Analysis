{
  "nbformat": 4,
  "nbformat_minor": 0,
  "metadata": {
    "colab": {
      "provenance": [],
      "toc_visible": true,
      "authorship_tag": "ABX9TyPRShP02WLgYqchumWbb5qE",
      "include_colab_link": true
    },
    "kernelspec": {
      "name": "python3",
      "display_name": "Python 3"
    },
    "language_info": {
      "name": "python"
    }
  },
  "cells": [
    {
      "cell_type": "markdown",
      "metadata": {
        "id": "view-in-github",
        "colab_type": "text"
      },
      "source": [
        "<a href=\"https://colab.research.google.com/github/the-rief/Rief-Sentiment-Analysis/blob/main/Customer_Churn_Prediction.ipynb\" target=\"_parent\"><img src=\"https://colab.research.google.com/assets/colab-badge.svg\" alt=\"Open In Colab\"/></a>"
      ]
    },
    {
      "cell_type": "markdown",
      "source": [
        "# Customer Churn Prediction Dataset\n",
        "\n",
        "**by Okibo Shadrack </rief/>**\n",
        "\n",
        "**Content**\n",
        "Each row represents a customer, each column contains customer’s attributes described on the column Metadata.\n",
        "The data set includes information about:\n",
        "\n",
        "Customers who left within the last month – the column is called Churn\n",
        "\n",
        "Services that each customer has signed up for – phone, multiple lines, internet, online security, online backup, device protection, tech support, and streaming TV and movies\n",
        "\n",
        "Customer account information – how long they’ve been a customer, contract, payment method, paperless billing, monthly charges, and total charges\n",
        "\n",
        "Demographic info about customers – gender, age range, and if they have partners and dependents"
      ],
      "metadata": {
        "id": "5ZdwDgiPJ0SK"
      }
    },
    {
      "cell_type": "markdown",
      "source": [],
      "metadata": {
        "id": "5En7GmszJvWK"
      }
    },
    {
      "cell_type": "code",
      "source": [],
      "metadata": {
        "id": "FdbfC7E9KynC"
      },
      "execution_count": null,
      "outputs": []
    }
  ]
}